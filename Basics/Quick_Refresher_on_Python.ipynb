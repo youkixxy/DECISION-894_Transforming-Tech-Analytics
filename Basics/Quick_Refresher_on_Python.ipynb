{
  "cells": [
    {
      "cell_type": "markdown",
      "id": "733f8cec",
      "metadata": {
        "id": "733f8cec"
      },
      "source": [
        "# Quick refresher on Python\n",
        "\n",
        "Python is a high-level, dynamically typed multiparadigm programming language. Python code is often said to be almost like pseudocode, since it allows you to express very powerful ideas in very few lines of code while being very readable.\n",
        "\n",
        "This notebook is adapted from the notebook in [CS224N: Natural Language Processing with Deep Learning](https://web.stanford.edu/class/cs224n/) at Stanford.\n",
        "\n",
        "In this notebook, we give a quick review on Python. We will\n",
        "cover\n",
        "\n",
        "* Basic Python: Basic data types (Containers, Lists, Dictionaries, Sets, Tuples), Functions, Classes, Loops\n",
        "* Numpy: Arrays, Array indexing, Datatypes, Array math, Broadcasting"
      ]
    },
    {
      "cell_type": "markdown",
      "source": [
        "You can check your Python version at the command line by running python --version."
      ],
      "metadata": {
        "id": "85rWy6nUo7OK"
      },
      "id": "85rWy6nUo7OK"
    },
    {
      "cell_type": "code",
      "source": [
        "!python --version"
      ],
      "metadata": {
        "id": "1075v8sCooK0",
        "outputId": "31b40ed5-c59d-4a66-fe8c-e1242444a491",
        "colab": {
          "base_uri": "https://localhost:8080/"
        }
      },
      "id": "1075v8sCooK0",
      "execution_count": 1,
      "outputs": [
        {
          "output_type": "stream",
          "name": "stdout",
          "text": [
            "Python 3.12.12\n"
          ]
        }
      ]
    },
    {
      "cell_type": "markdown",
      "source": [
        "## Basic data types and operations"
      ],
      "metadata": {
        "id": "UettYemUprcN"
      },
      "id": "UettYemUprcN"
    },
    {
      "cell_type": "markdown",
      "source": [
        "### Numbers\n",
        "\n",
        "Integers and floats work as you would expect from other languages:"
      ],
      "metadata": {
        "id": "nv4nH8WGpP10"
      },
      "id": "nv4nH8WGpP10"
    },
    {
      "cell_type": "code",
      "source": [
        "x = 3\n",
        "print(x, type(x))"
      ],
      "metadata": {
        "id": "cftEjDxZpWDS",
        "outputId": "d0d995d3-8588-4016-c07a-680e5797a068",
        "colab": {
          "base_uri": "https://localhost:8080/"
        }
      },
      "id": "cftEjDxZpWDS",
      "execution_count": 2,
      "outputs": [
        {
          "output_type": "stream",
          "name": "stdout",
          "text": [
            "3 <class 'int'>\n"
          ]
        }
      ]
    },
    {
      "cell_type": "code",
      "source": [
        "print(x + 1)   # Addition\n",
        "print(x - 1)   # Subtraction\n",
        "print(x * 2)   # Multiplication\n",
        "print(x ** 2)  # Exponentiation"
      ],
      "metadata": {
        "id": "hRNEYp1UpX5Q",
        "outputId": "ca5fb5b7-1003-439b-d631-893293854e81",
        "colab": {
          "base_uri": "https://localhost:8080/"
        }
      },
      "id": "hRNEYp1UpX5Q",
      "execution_count": 3,
      "outputs": [
        {
          "output_type": "stream",
          "name": "stdout",
          "text": [
            "4\n",
            "2\n",
            "6\n",
            "9\n"
          ]
        }
      ]
    },
    {
      "cell_type": "code",
      "source": [
        "x += 1\n",
        "print(x)\n",
        "x *= 2\n",
        "print(x)"
      ],
      "metadata": {
        "id": "WhwZpFQOpZ06",
        "outputId": "ad422c02-5118-4f90-d2a7-975d29fde8cb",
        "colab": {
          "base_uri": "https://localhost:8080/"
        }
      },
      "id": "WhwZpFQOpZ06",
      "execution_count": 4,
      "outputs": [
        {
          "output_type": "stream",
          "name": "stdout",
          "text": [
            "4\n",
            "8\n"
          ]
        }
      ]
    },
    {
      "cell_type": "code",
      "source": [
        "y = 2.5\n",
        "print(type(y))\n",
        "print(y, y + 1, y * 2, y ** 2)"
      ],
      "metadata": {
        "id": "0U19W0gBpcey",
        "outputId": "23ee8ed0-eb52-493c-c848-a84ce71dcb18",
        "colab": {
          "base_uri": "https://localhost:8080/"
        }
      },
      "id": "0U19W0gBpcey",
      "execution_count": 5,
      "outputs": [
        {
          "output_type": "stream",
          "name": "stdout",
          "text": [
            "<class 'float'>\n",
            "2.5 3.5 5.0 6.25\n"
          ]
        }
      ]
    },
    {
      "cell_type": "markdown",
      "source": [
        "### Booleans\n",
        "\n",
        "Python implements all of the usual operators for Boolean logic, but uses English words rather than symbols (&&, ||, etc.):"
      ],
      "metadata": {
        "id": "Kt0vx1Bqpey4"
      },
      "id": "Kt0vx1Bqpey4"
    },
    {
      "cell_type": "code",
      "source": [
        "t, f = True, False\n",
        "print(type(t))"
      ],
      "metadata": {
        "id": "vMr1FXibp2Zg",
        "outputId": "59fc5929-c449-4098-beed-c486f82660a6",
        "colab": {
          "base_uri": "https://localhost:8080/"
        }
      },
      "id": "vMr1FXibp2Zg",
      "execution_count": 6,
      "outputs": [
        {
          "output_type": "stream",
          "name": "stdout",
          "text": [
            "<class 'bool'>\n"
          ]
        }
      ]
    },
    {
      "cell_type": "code",
      "source": [
        "print(t and f) # Logical AND;\n",
        "print(t or f)  # Logical OR;\n",
        "print(not t)   # Logical NOT;\n",
        "print(t != f)  # Logical XOR;"
      ],
      "metadata": {
        "id": "caLJALK5p4fc",
        "outputId": "09a077fb-8772-4f2b-c79c-895c5a6eb041",
        "colab": {
          "base_uri": "https://localhost:8080/"
        }
      },
      "id": "caLJALK5p4fc",
      "execution_count": 7,
      "outputs": [
        {
          "output_type": "stream",
          "name": "stdout",
          "text": [
            "False\n",
            "True\n",
            "False\n",
            "True\n"
          ]
        }
      ]
    },
    {
      "cell_type": "markdown",
      "source": [
        "### Strings\n",
        "\n",
        "You can find a list of all string methods in the [documentation](https://docs.python.org/3.7/library/stdtypes.html#string-methods)."
      ],
      "metadata": {
        "id": "UgXj5F4dp757"
      },
      "id": "UgXj5F4dp757"
    },
    {
      "cell_type": "code",
      "source": [
        "hello = 'hello'   # String literals can use single quotes\n",
        "world = \"world\"   # or double quotes; it does not matter\n",
        "print(hello, len(hello))"
      ],
      "metadata": {
        "id": "6b8pYx30p_kj",
        "outputId": "4be93217-2222-4de2-bd1c-2e09fd8c99fb",
        "colab": {
          "base_uri": "https://localhost:8080/"
        }
      },
      "id": "6b8pYx30p_kj",
      "execution_count": 8,
      "outputs": [
        {
          "output_type": "stream",
          "name": "stdout",
          "text": [
            "hello 5\n"
          ]
        }
      ]
    },
    {
      "cell_type": "code",
      "source": [
        "hw = hello + ' ' + world  # String concatenation\n",
        "print(hw)"
      ],
      "metadata": {
        "id": "TxVP2aW4qCoA",
        "outputId": "5195253e-af7f-4536-f9bb-6bb1b117a10d",
        "colab": {
          "base_uri": "https://localhost:8080/"
        }
      },
      "id": "TxVP2aW4qCoA",
      "execution_count": 9,
      "outputs": [
        {
          "output_type": "stream",
          "name": "stdout",
          "text": [
            "hello world\n"
          ]
        }
      ]
    },
    {
      "cell_type": "code",
      "source": [
        "hw12 = '{} {} {}'.format(hello, world, 12)  # string formatting\n",
        "print(hw12)"
      ],
      "metadata": {
        "id": "KIp5c7l4qEWk",
        "outputId": "f26f937e-73ce-4947-e924-19fdaf8365b8",
        "colab": {
          "base_uri": "https://localhost:8080/"
        }
      },
      "id": "KIp5c7l4qEWk",
      "execution_count": 10,
      "outputs": [
        {
          "output_type": "stream",
          "name": "stdout",
          "text": [
            "hello world 12\n"
          ]
        }
      ]
    },
    {
      "cell_type": "code",
      "source": [
        "s = \"hello\"\n",
        "print(s.capitalize())  # Capitalize a string\n",
        "print(s.upper())       # Convert a string to uppercase; prints \"HELLO\"\n",
        "print(s.rjust(7))      # Right-justify a string, padding with spaces\n",
        "print(s.center(7))     # Center a string, padding with spaces\n",
        "print(s.replace('l', '(ell)'))  # Replace all instances of one substring with another\n",
        "print('  world '.strip())  # Strip leading and trailing whitespace"
      ],
      "metadata": {
        "id": "D2t2bZpMqH8l",
        "outputId": "7a6d34fe-0378-47cc-c8dd-869d117ed5b0",
        "colab": {
          "base_uri": "https://localhost:8080/"
        }
      },
      "id": "D2t2bZpMqH8l",
      "execution_count": 11,
      "outputs": [
        {
          "output_type": "stream",
          "name": "stdout",
          "text": [
            "Hello\n",
            "HELLO\n",
            "  hello\n",
            " hello \n",
            "he(ell)(ell)o\n",
            "world\n"
          ]
        }
      ]
    },
    {
      "cell_type": "markdown",
      "id": "347cd487",
      "metadata": {
        "id": "347cd487"
      },
      "source": [
        "## Collections"
      ]
    },
    {
      "cell_type": "markdown",
      "id": "e691f94d",
      "metadata": {
        "id": "e691f94d"
      },
      "source": [
        "Python has several built-in types that are useful for storing and manipulating data: list, tuple, dict. Here is the official Python documentation on these types (and many others): https://docs.python.org/3/library/stdtypes.html."
      ]
    },
    {
      "cell_type": "markdown",
      "id": "635401d7",
      "metadata": {
        "id": "635401d7"
      },
      "source": [
        "### Lists"
      ]
    },
    {
      "cell_type": "markdown",
      "id": "ce42dfd9",
      "metadata": {
        "id": "ce42dfd9"
      },
      "source": [
        "Lists are mutable arrays (you can change the object's state after you've created it). Let's see how they work."
      ]
    },
    {
      "cell_type": "code",
      "execution_count": 12,
      "id": "3f24605e",
      "metadata": {
        "id": "3f24605e"
      },
      "outputs": [],
      "source": [
        "names = [\"Zach\", \"Jay\"]"
      ]
    },
    {
      "cell_type": "code",
      "execution_count": 13,
      "id": "ae2fb323",
      "metadata": {
        "id": "ae2fb323",
        "outputId": "212f638d-aa1e-4d7c-96b4-d3cd5e56063b",
        "colab": {
          "base_uri": "https://localhost:8080/"
        }
      },
      "outputs": [
        {
          "output_type": "stream",
          "name": "stdout",
          "text": [
            "Zach\n"
          ]
        }
      ],
      "source": [
        "# Index into list by index\n",
        "print(names[0])"
      ]
    },
    {
      "cell_type": "code",
      "execution_count": 14,
      "id": "64066853",
      "metadata": {
        "id": "64066853",
        "outputId": "4f1f4758-2898-4f95-edda-6a5787e752d6",
        "colab": {
          "base_uri": "https://localhost:8080/"
        }
      },
      "outputs": [
        {
          "output_type": "stream",
          "name": "stdout",
          "text": [
            "['Zach', 'Jay', 'Richard']\n"
          ]
        }
      ],
      "source": [
        "# Append to list (appends to end of list)\n",
        "names.append(\"Richard\")\n",
        "print(names)"
      ]
    },
    {
      "cell_type": "code",
      "execution_count": 15,
      "id": "357799cc",
      "metadata": {
        "id": "357799cc",
        "outputId": "4d8fa02d-9c36-434d-9297-d24a3e0e2b79",
        "colab": {
          "base_uri": "https://localhost:8080/"
        }
      },
      "outputs": [
        {
          "output_type": "stream",
          "name": "stdout",
          "text": [
            "3\n"
          ]
        }
      ],
      "source": [
        "# Get length of list\n",
        "print(len(names))"
      ]
    },
    {
      "cell_type": "code",
      "execution_count": 16,
      "id": "8977adcf",
      "metadata": {
        "id": "8977adcf",
        "outputId": "87411c35-dcef-475b-a5b4-46934df47e34",
        "colab": {
          "base_uri": "https://localhost:8080/"
        }
      },
      "outputs": [
        {
          "output_type": "stream",
          "name": "stdout",
          "text": [
            "['Zach', 'Jay', 'Richard', 'Abi', 'Kevin']\n"
          ]
        }
      ],
      "source": [
        "# Concatenate two lists\n",
        "# += operator is a short hand for list1 = list1 + list2 (can also be used for -, *, / and on other types of variables)\n",
        "names += [\"Abi\", \"Kevin\"]\n",
        "print(names)"
      ]
    },
    {
      "cell_type": "code",
      "execution_count": 17,
      "id": "57c178a7",
      "metadata": {
        "id": "57c178a7"
      },
      "outputs": [],
      "source": [
        "# Two ways to create an empty list\n",
        "more_names = []\n",
        "more_names = list()"
      ]
    },
    {
      "cell_type": "code",
      "execution_count": 18,
      "id": "7913fce7",
      "metadata": {
        "scrolled": true,
        "id": "7913fce7",
        "outputId": "3f0c28a4-6760-46f1-b2b5-fb7ef7d3f158",
        "colab": {
          "base_uri": "https://localhost:8080/"
        }
      },
      "outputs": [
        {
          "output_type": "stream",
          "name": "stdout",
          "text": [
            "[1, ['hi', 'bye'], -0.12, None]\n"
          ]
        }
      ],
      "source": [
        "# Create a list that contains different data types, this is allowed in Python\n",
        "stuff = [1, [\"hi\", \"bye\"], -0.12, None]\n",
        "print(stuff)"
      ]
    },
    {
      "cell_type": "markdown",
      "id": "68682c20",
      "metadata": {
        "id": "68682c20"
      },
      "source": [
        "List slicing is a useful way to access a slice of elements in a list."
      ]
    },
    {
      "cell_type": "code",
      "execution_count": 19,
      "id": "8fc049ef",
      "metadata": {
        "id": "8fc049ef",
        "outputId": "749eb1e4-196d-4032-aabe-08aae88ee951",
        "colab": {
          "base_uri": "https://localhost:8080/"
        }
      },
      "outputs": [
        {
          "output_type": "stream",
          "name": "stdout",
          "text": [
            "[0, 1, 2]\n"
          ]
        }
      ],
      "source": [
        "numbers = [0, 1, 2, 3, 4, 5, 6]\n",
        "\n",
        "# Slices from start index (inclusive) to end index (exclusive)\n",
        "print(numbers[0:3])"
      ]
    },
    {
      "cell_type": "code",
      "execution_count": 20,
      "id": "3e34a509",
      "metadata": {
        "id": "3e34a509",
        "outputId": "59ccd0d1-f510-4bb2-a704-e60f5e5634b1",
        "colab": {
          "base_uri": "https://localhost:8080/"
        }
      },
      "outputs": [
        {
          "output_type": "stream",
          "name": "stdout",
          "text": [
            "[0, 1, 2]\n",
            "[5, 6]\n"
          ]
        }
      ],
      "source": [
        "# When start index is not specified, it is start of list\n",
        "# When end index is not specified, it is end of list\n",
        "print(numbers[:3])\n",
        "print(numbers[5:])"
      ]
    },
    {
      "cell_type": "code",
      "execution_count": 21,
      "id": "813da35a",
      "metadata": {
        "id": "813da35a",
        "outputId": "dd205cd6-c158-4ef0-ddc6-d954c426b9c4",
        "colab": {
          "base_uri": "https://localhost:8080/"
        }
      },
      "outputs": [
        {
          "output_type": "stream",
          "name": "stdout",
          "text": [
            "[0, 1, 2, 3, 4, 5, 6]\n"
          ]
        }
      ],
      "source": [
        "# : takes the slice of all elements along a dimension, is very useful when working with numpy arrays\n",
        "print(numbers[:])"
      ]
    },
    {
      "cell_type": "code",
      "execution_count": 22,
      "id": "eaa197af",
      "metadata": {
        "id": "eaa197af",
        "outputId": "ae34f0d6-a8e8-4605-f7d2-320b8d340243",
        "colab": {
          "base_uri": "https://localhost:8080/"
        }
      },
      "outputs": [
        {
          "output_type": "stream",
          "name": "stdout",
          "text": [
            "6\n",
            "[4, 5, 6]\n",
            "[3, 4]\n"
          ]
        }
      ],
      "source": [
        "# Negative index wraps around, start counting from the end of list\n",
        "print(numbers[-1])\n",
        "print(numbers[-3:])\n",
        "print(numbers[3:-2])"
      ]
    },
    {
      "cell_type": "markdown",
      "id": "22371049",
      "metadata": {
        "id": "22371049"
      },
      "source": [
        "### Tuples"
      ]
    },
    {
      "cell_type": "markdown",
      "id": "bfca6098",
      "metadata": {
        "id": "bfca6098"
      },
      "source": [
        "Tuples are immutable arrays (cannot be changed after creation). Let's see how they work."
      ]
    },
    {
      "cell_type": "code",
      "execution_count": 23,
      "id": "b542e470",
      "metadata": {
        "id": "b542e470"
      },
      "outputs": [],
      "source": [
        "# Use parentheses for tuples, square brackets for lists\n",
        "names = (\"Zach\", \"Jay\")"
      ]
    },
    {
      "cell_type": "code",
      "execution_count": 24,
      "id": "3906a033",
      "metadata": {
        "id": "3906a033",
        "outputId": "23039ecd-eca3-447a-a67e-f842121db20f",
        "colab": {
          "base_uri": "https://localhost:8080/"
        }
      },
      "outputs": [
        {
          "output_type": "stream",
          "name": "stdout",
          "text": [
            "Zach\n",
            "2\n"
          ]
        }
      ],
      "source": [
        "# Syntax for accessing an element and getting length are the same as lists\n",
        "print(names[0])\n",
        "print(len(names))"
      ]
    },
    {
      "cell_type": "code",
      "execution_count": 25,
      "id": "8799a4c5",
      "metadata": {
        "id": "8799a4c5",
        "outputId": "c9b10d03-d292-474d-a7d4-eb94d96aa74d",
        "colab": {
          "base_uri": "https://localhost:8080/",
          "height": 159
        }
      },
      "outputs": [
        {
          "output_type": "error",
          "ename": "TypeError",
          "evalue": "'tuple' object does not support item assignment",
          "traceback": [
            "\u001b[0;31m---------------------------------------------------------------------------\u001b[0m",
            "\u001b[0;31mTypeError\u001b[0m                                 Traceback (most recent call last)",
            "\u001b[0;32m/tmp/ipython-input-484771869.py\u001b[0m in \u001b[0;36m<cell line: 0>\u001b[0;34m()\u001b[0m\n\u001b[1;32m      1\u001b[0m \u001b[0;31m# But unlike lists, tuples do not support item re-assignment\u001b[0m\u001b[0;34m\u001b[0m\u001b[0;34m\u001b[0m\u001b[0m\n\u001b[0;32m----> 2\u001b[0;31m \u001b[0mnames\u001b[0m\u001b[0;34m[\u001b[0m\u001b[0;36m0\u001b[0m\u001b[0;34m]\u001b[0m \u001b[0;34m=\u001b[0m \u001b[0;34m\"Richard\"\u001b[0m\u001b[0;34m\u001b[0m\u001b[0;34m\u001b[0m\u001b[0m\n\u001b[0m",
            "\u001b[0;31mTypeError\u001b[0m: 'tuple' object does not support item assignment"
          ]
        }
      ],
      "source": [
        "# But unlike lists, tuples do not support item re-assignment\n",
        "names[0] = \"Richard\""
      ]
    },
    {
      "cell_type": "code",
      "execution_count": 26,
      "id": "9918ac4b",
      "metadata": {
        "id": "9918ac4b",
        "outputId": "f69ea377-486a-44e6-f3b5-a2b1ee41149b",
        "colab": {
          "base_uri": "https://localhost:8080/"
        }
      },
      "outputs": [
        {
          "output_type": "stream",
          "name": "stdout",
          "text": [
            "()\n",
            "(10,)\n"
          ]
        }
      ],
      "source": [
        "# Create an empty tuple\n",
        "empty = tuple()\n",
        "print(empty)\n",
        "\n",
        "# Create a tuple with a single item, the comma is important\n",
        "single = (10,)\n",
        "print(single)"
      ]
    },
    {
      "cell_type": "markdown",
      "id": "00800704",
      "metadata": {
        "id": "00800704"
      },
      "source": [
        "### Dictionary"
      ]
    },
    {
      "cell_type": "markdown",
      "id": "8111c6c3",
      "metadata": {
        "id": "8111c6c3"
      },
      "source": [
        "Dictionaries are hash maps. Let's see how they work."
      ]
    },
    {
      "cell_type": "code",
      "execution_count": 27,
      "id": "646bda2f",
      "metadata": {
        "id": "646bda2f"
      },
      "outputs": [],
      "source": [
        "# Two ways to create an empty dictionary\n",
        "phonebook = {}\n",
        "phonebook = dict()"
      ]
    },
    {
      "cell_type": "code",
      "execution_count": 28,
      "id": "65c67196",
      "metadata": {
        "id": "65c67196"
      },
      "outputs": [],
      "source": [
        "# Create dictionary with one item\n",
        "phonebook = {\"Zach\": \"12-37\"}\n",
        "# Add another item\n",
        "phonebook[\"Jay\"] = \"34-23\""
      ]
    },
    {
      "cell_type": "code",
      "execution_count": 29,
      "id": "1bc431d9",
      "metadata": {
        "id": "1bc431d9",
        "outputId": "95923d36-62b9-48a1-d3c9-2d01bb98cd95",
        "colab": {
          "base_uri": "https://localhost:8080/"
        }
      },
      "outputs": [
        {
          "output_type": "stream",
          "name": "stdout",
          "text": [
            "True\n",
            "False\n"
          ]
        }
      ],
      "source": [
        "# Check if a key is in the dictionary\n",
        "print(\"Zach\" in phonebook)\n",
        "print(\"Kevin\" in phonebook)"
      ]
    },
    {
      "cell_type": "code",
      "execution_count": 30,
      "id": "87018123",
      "metadata": {
        "id": "87018123",
        "outputId": "17fd74c2-2a10-48a3-ee4b-afafde68d14a",
        "colab": {
          "base_uri": "https://localhost:8080/"
        }
      },
      "outputs": [
        {
          "output_type": "stream",
          "name": "stdout",
          "text": [
            "34-23\n"
          ]
        }
      ],
      "source": [
        "# Get corresponding value for a key\n",
        "print(phonebook[\"Jay\"])"
      ]
    },
    {
      "cell_type": "code",
      "source": [
        "print(phonebook.get('Kevin', 'N/A'))    # Get an element with a default; prints \"N/A\"\n",
        "print(phonebook.get('Jay', 'N/A'))    # Get an element with a default; prints \"34-23\""
      ],
      "metadata": {
        "id": "f3WxAt6HrPcI",
        "outputId": "a0d11103-cb53-4ba9-a30a-57844c8a545c",
        "colab": {
          "base_uri": "https://localhost:8080/"
        }
      },
      "id": "f3WxAt6HrPcI",
      "execution_count": 31,
      "outputs": [
        {
          "output_type": "stream",
          "name": "stdout",
          "text": [
            "N/A\n",
            "34-23\n"
          ]
        }
      ]
    },
    {
      "cell_type": "code",
      "execution_count": 32,
      "id": "18555a3a",
      "metadata": {
        "id": "18555a3a",
        "outputId": "2e451ab0-29f0-4ae9-dabc-6ef044402945",
        "colab": {
          "base_uri": "https://localhost:8080/"
        }
      },
      "outputs": [
        {
          "output_type": "stream",
          "name": "stdout",
          "text": [
            "{'Jay': '34-23'}\n"
          ]
        }
      ],
      "source": [
        "# Delete an item\n",
        "del phonebook[\"Zach\"]\n",
        "print(phonebook)"
      ]
    },
    {
      "cell_type": "markdown",
      "source": [
        "### Sets\n",
        "\n"
      ],
      "metadata": {
        "id": "7Tq12JRFsCEW"
      },
      "id": "7Tq12JRFsCEW"
    },
    {
      "cell_type": "markdown",
      "source": [
        "A set is an unordered collection of distinct elements. As a simple example, consider the following:"
      ],
      "metadata": {
        "id": "kV51dBb8sOlk"
      },
      "id": "kV51dBb8sOlk"
    },
    {
      "cell_type": "code",
      "source": [
        "animals = {'cat', 'dog'}\n",
        "print('cat' in animals)   # Check if an element is in a set; prints \"True\"\n",
        "print('fish' in animals)  # prints \"False\""
      ],
      "metadata": {
        "id": "tLJzqpCjsQV8",
        "outputId": "e6efb609-f181-4479-ae72-0915493c850a",
        "colab": {
          "base_uri": "https://localhost:8080/"
        }
      },
      "id": "tLJzqpCjsQV8",
      "execution_count": 33,
      "outputs": [
        {
          "output_type": "stream",
          "name": "stdout",
          "text": [
            "True\n",
            "False\n"
          ]
        }
      ]
    },
    {
      "cell_type": "code",
      "source": [
        "animals.add('fish')      # Add an element to a set\n",
        "print('fish' in animals)\n",
        "print(len(animals))       # Number of elements in a set;"
      ],
      "metadata": {
        "id": "0-bdJFsssSSk",
        "outputId": "9d047567-80df-49dc-8783-2fb7974cf426",
        "colab": {
          "base_uri": "https://localhost:8080/"
        }
      },
      "id": "0-bdJFsssSSk",
      "execution_count": 34,
      "outputs": [
        {
          "output_type": "stream",
          "name": "stdout",
          "text": [
            "True\n",
            "3\n"
          ]
        }
      ]
    },
    {
      "cell_type": "markdown",
      "id": "60aceb86",
      "metadata": {
        "id": "60aceb86"
      },
      "source": [
        "## Loops"
      ]
    },
    {
      "cell_type": "code",
      "execution_count": 35,
      "id": "f7189f9d",
      "metadata": {
        "id": "f7189f9d",
        "outputId": "ddef14e1-36b9-43b5-e03a-9d92d1e06bd0",
        "colab": {
          "base_uri": "https://localhost:8080/"
        }
      },
      "outputs": [
        {
          "output_type": "stream",
          "name": "stdout",
          "text": [
            "0\n",
            "1\n",
            "2\n",
            "3\n",
            "4\n"
          ]
        }
      ],
      "source": [
        "# Basic for loop\n",
        "for i in range(5):\n",
        "    print(i)"
      ]
    },
    {
      "cell_type": "code",
      "execution_count": 36,
      "id": "10ae15db",
      "metadata": {
        "id": "10ae15db",
        "outputId": "8010fbc5-9278-40dc-b5b9-0a5bf8c41389",
        "colab": {
          "base_uri": "https://localhost:8080/"
        }
      },
      "outputs": [
        {
          "output_type": "stream",
          "name": "stdout",
          "text": [
            "Zach\n",
            "Jay\n",
            "Richard\n"
          ]
        }
      ],
      "source": [
        "# To iterate over a list\n",
        "names = [\"Zach\", \"Jay\", \"Richard\"]\n",
        "for name in names:\n",
        "    print(name)"
      ]
    },
    {
      "cell_type": "code",
      "execution_count": 37,
      "id": "00d5035b",
      "metadata": {
        "id": "00d5035b",
        "outputId": "dc9a1aa3-b03a-44f4-e163-da17b0793d31",
        "colab": {
          "base_uri": "https://localhost:8080/"
        }
      },
      "outputs": [
        {
          "output_type": "stream",
          "name": "stdout",
          "text": [
            "0 Zach\n",
            "1 Jay\n",
            "2 Richard\n",
            "---\n",
            "0 Zach\n",
            "1 Jay\n",
            "2 Richard\n"
          ]
        }
      ],
      "source": [
        "# To iterate over indices and values in a list\n",
        "# Way 1\n",
        "for i in range(len(names)):\n",
        "    print(i, names[i])\n",
        "\n",
        "print(\"---\")\n",
        "\n",
        "# Way 2\n",
        "for i, name in enumerate(names):\n",
        "    print(i, name)"
      ]
    },
    {
      "cell_type": "code",
      "execution_count": 38,
      "id": "f18b7ce6",
      "metadata": {
        "id": "f18b7ce6",
        "outputId": "eca0f527-2fdc-4404-eae6-737b8dd4bb56",
        "colab": {
          "base_uri": "https://localhost:8080/"
        }
      },
      "outputs": [
        {
          "output_type": "stream",
          "name": "stdout",
          "text": [
            "Zach\n",
            "Jay\n",
            "---\n",
            "12-37\n",
            "34-23\n",
            "---\n",
            "Zach 12-37\n",
            "Jay 34-23\n"
          ]
        }
      ],
      "source": [
        "# To iterate over a dictionary\n",
        "phonebook = {\"Zach\": \"12-37\", \"Jay\": \"34-23\"}\n",
        "\n",
        "# Iterate over keys\n",
        "for name in phonebook:\n",
        "    print(name)\n",
        "\n",
        "print(\"---\")\n",
        "\n",
        "# Iterate over values\n",
        "for number in phonebook.values():\n",
        "    print(number)\n",
        "\n",
        "print(\"---\")\n",
        "\n",
        "# Iterate over keys and values\n",
        "for name, number in phonebook.items():\n",
        "    print(name, number)"
      ]
    },
    {
      "cell_type": "markdown",
      "source": [
        "## Functions"
      ],
      "metadata": {
        "id": "MrzoI6QzsmY6"
      },
      "id": "MrzoI6QzsmY6"
    },
    {
      "cell_type": "markdown",
      "source": [
        "Python functions are defined using the `def` keyword. For example:"
      ],
      "metadata": {
        "id": "JqnEoZDasqbM"
      },
      "id": "JqnEoZDasqbM"
    },
    {
      "cell_type": "code",
      "source": [
        "def sign(x):\n",
        "    if x > 0:\n",
        "        return 'positive'\n",
        "    elif x < 0:\n",
        "        return 'negative'\n",
        "    else:\n",
        "        return 'zero'\n",
        "\n",
        "for x in [-1, 0, 1]:\n",
        "    print(sign(x))"
      ],
      "metadata": {
        "id": "Og21SIQ0spxk",
        "outputId": "f5cfce00-0e33-4c64-c1d7-eed1dbdffdad",
        "colab": {
          "base_uri": "https://localhost:8080/"
        }
      },
      "id": "Og21SIQ0spxk",
      "execution_count": 39,
      "outputs": [
        {
          "output_type": "stream",
          "name": "stdout",
          "text": [
            "negative\n",
            "zero\n",
            "positive\n"
          ]
        }
      ]
    },
    {
      "cell_type": "markdown",
      "source": [
        "We will often define functions to take optional keyword arguments, like this:"
      ],
      "metadata": {
        "id": "AUFjN0gUs0js"
      },
      "id": "AUFjN0gUs0js"
    },
    {
      "cell_type": "code",
      "source": [
        "def hello(name, loud=False):\n",
        "    if loud:\n",
        "        print('HELLO, {}'.format(name.upper()))\n",
        "    else:\n",
        "        print('Hello, {}!'.format(name))\n",
        "\n",
        "hello('Bob')\n",
        "hello('Fred', loud=True)"
      ],
      "metadata": {
        "id": "nhX69kBisvUC",
        "outputId": "5d71b67d-d988-4154-ed5a-f896f7cfe883",
        "colab": {
          "base_uri": "https://localhost:8080/"
        }
      },
      "id": "nhX69kBisvUC",
      "execution_count": 40,
      "outputs": [
        {
          "output_type": "stream",
          "name": "stdout",
          "text": [
            "Hello, Bob!\n",
            "HELLO, FRED\n"
          ]
        }
      ]
    },
    {
      "cell_type": "markdown",
      "source": [
        "## Classes"
      ],
      "metadata": {
        "id": "tdD9NGx9s2eW"
      },
      "id": "tdD9NGx9s2eW"
    },
    {
      "cell_type": "markdown",
      "source": [
        "The syntax for defining classes in Python is straightforward:"
      ],
      "metadata": {
        "id": "Ho_sfOfAs5hR"
      },
      "id": "Ho_sfOfAs5hR"
    },
    {
      "cell_type": "code",
      "source": [
        "class Greeter:\n",
        "\n",
        "    # Constructor\n",
        "    def __init__(self, name):\n",
        "        self.name = name  # Create an instance variable\n",
        "\n",
        "    # Instance method\n",
        "    def greet(self, loud=False):\n",
        "        if loud:\n",
        "          print('HELLO, {}'.format(self.name.upper()))\n",
        "        else:\n",
        "          print('Hello, {}!'.format(self.name))\n",
        "\n",
        "g = Greeter('Fred')  # Construct an instance of the Greeter class\n",
        "g.greet()            # Call an instance method; prints \"Hello, Fred\"\n",
        "g.greet(loud=True)   # Call an instance method; prints \"HELLO, FRED!\""
      ],
      "metadata": {
        "id": "kEr9Hv5ps80O",
        "outputId": "e26fb952-350c-421a-b2db-1a9d151a1558",
        "colab": {
          "base_uri": "https://localhost:8080/"
        }
      },
      "id": "kEr9Hv5ps80O",
      "execution_count": 41,
      "outputs": [
        {
          "output_type": "stream",
          "name": "stdout",
          "text": [
            "Hello, Fred!\n",
            "HELLO, FRED\n"
          ]
        }
      ]
    },
    {
      "cell_type": "markdown",
      "id": "e9661ef4",
      "metadata": {
        "id": "e9661ef4"
      },
      "source": [
        "## NumPy\n",
        "NumPy is a Python library, which adds support for large, multi-dimensional arrays and matrices, along with a large collection of optimized, high-level mathematical functions to operate on these arrays."
      ]
    },
    {
      "cell_type": "markdown",
      "id": "ecdb0df8",
      "metadata": {
        "id": "ecdb0df8"
      },
      "source": [
        "You may need to install numpy first before importing it in the next cell."
      ]
    },
    {
      "cell_type": "code",
      "execution_count": 42,
      "id": "ab7d3f32",
      "metadata": {
        "id": "ab7d3f32"
      },
      "outputs": [],
      "source": [
        "# Import numpy\n",
        "import numpy as np"
      ]
    },
    {
      "cell_type": "code",
      "execution_count": 43,
      "id": "6596eb30",
      "metadata": {
        "scrolled": false,
        "id": "6596eb30",
        "outputId": "d882c250-d5b2-4f3c-b743-1b4c6c6d7470",
        "colab": {
          "base_uri": "https://localhost:8080/"
        }
      },
      "outputs": [
        {
          "output_type": "stream",
          "name": "stdout",
          "text": [
            "(3,)\n",
            "(1, 3)\n",
            "\n",
            "[[6 7]\n",
            " [8 9]]\n",
            "(2, 2)\n"
          ]
        }
      ],
      "source": [
        "# Create numpy arrays from lists\n",
        "x = np.array([1,2,3])\n",
        "a = np.array([[1,2,3]])\n",
        "\n",
        "\n",
        "y = np.array([[3,4,5]])\n",
        "z = np.array([[6,7],[8,9]])\n",
        "\n",
        "# Let's take a look at their shapes.\n",
        "# When working with numpy arrays, .shape will be a very useful debugging tool\n",
        "print(x.shape)\n",
        "print(y.shape)\n",
        "print()\n",
        "print(z)\n",
        "print(z.shape)"
      ]
    },
    {
      "cell_type": "markdown",
      "id": "f4b465bf",
      "metadata": {
        "id": "f4b465bf"
      },
      "source": [
        "Vectors can be represented as 1-D arrays of shape (N,) or 2-D arrays of shape (N, 1) or (1, N). But it's important to note that the shapes (N,), (N, 1), and (1,N) are not the same and may result in different behavior (we'll see some examples below involving matrix multiplication and broadcasting).\n",
        "\n",
        "Matrices are generally represented as 2-D arrays of shape (M, N).\n",
        "\n",
        "The best way to ensure your code gives you the behavior you expect is to keep track of your array shapes and try out small test cases or refer back to documentation when you are unsure."
      ]
    },
    {
      "cell_type": "code",
      "source": [
        "a = np.arange(10)\n",
        "b = a.reshape((5, 2))\n",
        "print(a)\n",
        "print()\n",
        "print(b)"
      ],
      "metadata": {
        "id": "A0Wl4qioLmb-",
        "outputId": "89a9fc61-5213-48cd-e779-ba3bb10ab685",
        "colab": {
          "base_uri": "https://localhost:8080/"
        }
      },
      "id": "A0Wl4qioLmb-",
      "execution_count": 44,
      "outputs": [
        {
          "output_type": "stream",
          "name": "stdout",
          "text": [
            "[0 1 2 3 4 5 6 7 8 9]\n",
            "\n",
            "[[0 1]\n",
            " [2 3]\n",
            " [4 5]\n",
            " [6 7]\n",
            " [8 9]]\n"
          ]
        }
      ]
    },
    {
      "cell_type": "markdown",
      "id": "bcb3f37c",
      "metadata": {
        "id": "bcb3f37c"
      },
      "source": [
        "### Array Operations"
      ]
    },
    {
      "cell_type": "markdown",
      "id": "18a8a694",
      "metadata": {
        "id": "18a8a694"
      },
      "source": [
        "There are many NumPy operations that can be used to reduce a numpy array along an axis.\n",
        "\n",
        "Let's look at the np.max operation (documentation: https://numpy.org/doc/stable/reference/generated/numpy.ndarray.max.html)."
      ]
    },
    {
      "cell_type": "code",
      "execution_count": 45,
      "id": "1fcf4220",
      "metadata": {
        "id": "1fcf4220",
        "outputId": "37cff55c-5064-4102-ae74-8896348a7e7f",
        "colab": {
          "base_uri": "https://localhost:8080/"
        }
      },
      "outputs": [
        {
          "output_type": "stream",
          "name": "stdout",
          "text": [
            "[[1 2]\n",
            " [3 4]\n",
            " [5 6]]\n",
            "\n",
            "(3, 2)\n"
          ]
        }
      ],
      "source": [
        "x = np.array([[1,2],[3,4], [5, 6]])\n",
        "print(x)\n",
        "print()\n",
        "print(x.shape)"
      ]
    },
    {
      "cell_type": "code",
      "execution_count": 46,
      "id": "df82f62e",
      "metadata": {
        "id": "df82f62e",
        "outputId": "6da4e284-efd6-43a4-d8ad-353ac23844da",
        "colab": {
          "base_uri": "https://localhost:8080/"
        }
      },
      "outputs": [
        {
          "output_type": "stream",
          "name": "stdout",
          "text": [
            "[2 4 6]\n"
          ]
        }
      ],
      "source": [
        "print(np.max(x, axis = 1))"
      ]
    },
    {
      "cell_type": "code",
      "source": [
        "print(np.max(x, axis = 1).shape)"
      ],
      "metadata": {
        "id": "WDWPbijv7xsw",
        "outputId": "ff5cd81b-f10b-4e2a-eb13-5f40837dd89d",
        "colab": {
          "base_uri": "https://localhost:8080/"
        }
      },
      "id": "WDWPbijv7xsw",
      "execution_count": 47,
      "outputs": [
        {
          "output_type": "stream",
          "name": "stdout",
          "text": [
            "(3,)\n"
          ]
        }
      ]
    },
    {
      "cell_type": "code",
      "execution_count": 48,
      "id": "0e888b74",
      "metadata": {
        "id": "0e888b74",
        "outputId": "2161fc18-1326-41ca-b549-7542741a3569",
        "colab": {
          "base_uri": "https://localhost:8080/"
        }
      },
      "outputs": [
        {
          "output_type": "stream",
          "name": "stdout",
          "text": [
            "[[2]\n",
            " [4]\n",
            " [6]]\n"
          ]
        }
      ],
      "source": [
        "print(np.max(x, axis = 1, keepdims = True))"
      ]
    },
    {
      "cell_type": "code",
      "source": [
        "print(np.max(x, axis = 1, keepdims = True).shape)"
      ],
      "metadata": {
        "id": "bs1NM9oR703c",
        "outputId": "289ec348-6ccc-4804-9957-7ff75002ffb8",
        "colab": {
          "base_uri": "https://localhost:8080/"
        }
      },
      "id": "bs1NM9oR703c",
      "execution_count": 49,
      "outputs": [
        {
          "output_type": "stream",
          "name": "stdout",
          "text": [
            "(3, 1)\n"
          ]
        }
      ]
    },
    {
      "cell_type": "markdown",
      "id": "29ff27ec",
      "metadata": {
        "id": "29ff27ec"
      },
      "source": [
        "Next, let's look at some matrix operations. Let's take an element-wise product (Hadamard product)."
      ]
    },
    {
      "cell_type": "code",
      "execution_count": 50,
      "id": "25aeb52d",
      "metadata": {
        "id": "25aeb52d",
        "outputId": "271660b2-bb31-40aa-c539-98dcafe39de4",
        "colab": {
          "base_uri": "https://localhost:8080/"
        }
      },
      "outputs": [
        {
          "output_type": "stream",
          "name": "stdout",
          "text": [
            "[[1 2]\n",
            " [3 4]]\n",
            "[[3 3]\n",
            " [3 3]]\n",
            "---\n",
            "[[ 3  6]\n",
            " [ 9 12]]\n"
          ]
        }
      ],
      "source": [
        "A = np.array([[1, 2], [3, 4]])\n",
        "B = np.array([[3, 3], [3, 3]])\n",
        "print(A)\n",
        "print(B)\n",
        "print(\"---\")\n",
        "print(A * B)"
      ]
    },
    {
      "cell_type": "markdown",
      "id": "689f2a8d",
      "metadata": {
        "id": "689f2a8d"
      },
      "source": [
        "We can do matrix multiplication with np.matmul or @."
      ]
    },
    {
      "cell_type": "code",
      "execution_count": 51,
      "id": "c76ec303",
      "metadata": {
        "id": "c76ec303",
        "outputId": "1cbfd7c3-4d0d-4a4f-d429-4ce268828c02",
        "colab": {
          "base_uri": "https://localhost:8080/"
        }
      },
      "outputs": [
        {
          "output_type": "stream",
          "name": "stdout",
          "text": [
            "[[ 9  9]\n",
            " [21 21]]\n",
            "[[ 9  9]\n",
            " [21 21]]\n"
          ]
        }
      ],
      "source": [
        "# One way to do matrix multiplication\n",
        "print(np.matmul(A, B))\n",
        "\n",
        "# Another way to do matrix multiplication\n",
        "print(A @ B)"
      ]
    },
    {
      "cell_type": "markdown",
      "id": "62696957",
      "metadata": {
        "id": "62696957"
      },
      "source": [
        "We can take the dot product or a matrix vector product with np.dot."
      ]
    },
    {
      "cell_type": "code",
      "execution_count": 52,
      "id": "0caf84b9",
      "metadata": {
        "id": "0caf84b9",
        "outputId": "3e7d87c2-8983-4752-a08d-36c7096c4bd6",
        "colab": {
          "base_uri": "https://localhost:8080/"
        }
      },
      "outputs": [
        {
          "output_type": "stream",
          "name": "stdout",
          "text": [
            "321\n",
            "321\n"
          ]
        }
      ],
      "source": [
        "u = np.array([1, 2, 3])\n",
        "v = np.array([1, 10, 100])\n",
        "\n",
        "print(np.dot(u, v))\n",
        "\n",
        "# Can also call numpy operations on the numpy array, useful for chaining together multiple operations\n",
        "print(u.dot(v))"
      ]
    },
    {
      "cell_type": "code",
      "execution_count": 53,
      "id": "43e635bb",
      "metadata": {
        "id": "43e635bb",
        "outputId": "60de35c9-25f0-498f-b965-5d561559271a",
        "colab": {
          "base_uri": "https://localhost:8080/"
        }
      },
      "outputs": [
        {
          "output_type": "stream",
          "name": "stdout",
          "text": [
            "(3,)\n",
            "(3, 2)\n",
            "[531 642]\n",
            "(2,)\n"
          ]
        }
      ],
      "source": [
        "W = np.array([[1, 2], [3, 4], [5, 6]])\n",
        "print(v.shape)\n",
        "print(W.shape)\n",
        "\n",
        "# This works.\n",
        "print(np.dot(v, W))\n",
        "print(np.dot(v, W).shape)"
      ]
    },
    {
      "cell_type": "code",
      "execution_count": 54,
      "id": "683dd6ee",
      "metadata": {
        "id": "683dd6ee",
        "outputId": "82075a12-0067-499f-f65d-fb9691f85abb",
        "colab": {
          "base_uri": "https://localhost:8080/",
          "height": 159
        }
      },
      "outputs": [
        {
          "output_type": "error",
          "ename": "ValueError",
          "evalue": "shapes (3,2) and (3,) not aligned: 2 (dim 1) != 3 (dim 0)",
          "traceback": [
            "\u001b[0;31m---------------------------------------------------------------------------\u001b[0m",
            "\u001b[0;31mValueError\u001b[0m                                Traceback (most recent call last)",
            "\u001b[0;32m/tmp/ipython-input-337728858.py\u001b[0m in \u001b[0;36m<cell line: 0>\u001b[0;34m()\u001b[0m\n\u001b[1;32m      1\u001b[0m \u001b[0;31m# This does not. Why?\u001b[0m\u001b[0;34m\u001b[0m\u001b[0;34m\u001b[0m\u001b[0m\n\u001b[0;32m----> 2\u001b[0;31m \u001b[0mprint\u001b[0m\u001b[0;34m(\u001b[0m\u001b[0mnp\u001b[0m\u001b[0;34m.\u001b[0m\u001b[0mdot\u001b[0m\u001b[0;34m(\u001b[0m\u001b[0mW\u001b[0m\u001b[0;34m,\u001b[0m \u001b[0mv\u001b[0m\u001b[0;34m)\u001b[0m\u001b[0;34m)\u001b[0m\u001b[0;34m\u001b[0m\u001b[0;34m\u001b[0m\u001b[0m\n\u001b[0m",
            "\u001b[0;31mValueError\u001b[0m: shapes (3,2) and (3,) not aligned: 2 (dim 1) != 3 (dim 0)"
          ]
        }
      ],
      "source": [
        "# This does not. Why?\n",
        "print(np.dot(W, v))"
      ]
    },
    {
      "cell_type": "code",
      "execution_count": 55,
      "id": "9e8b2184",
      "metadata": {
        "id": "9e8b2184",
        "outputId": "dadd85c2-5972-4c24-f7b8-67a4b8948ebe",
        "colab": {
          "base_uri": "https://localhost:8080/"
        }
      },
      "outputs": [
        {
          "output_type": "stream",
          "name": "stdout",
          "text": [
            "[531 642]\n",
            "(2,)\n"
          ]
        }
      ],
      "source": [
        "# We can fix the above issue by transposing W.\n",
        "print(np.dot(W.T, v))\n",
        "print(np.dot(W.T, v).shape)"
      ]
    },
    {
      "cell_type": "markdown",
      "id": "c13199d8",
      "metadata": {
        "id": "c13199d8"
      },
      "source": [
        "###  Indexing"
      ]
    },
    {
      "cell_type": "markdown",
      "id": "d3d3d5c2",
      "metadata": {
        "id": "d3d3d5c2"
      },
      "source": [
        "Slicing / indexing numpy arrays is a extension of the Python concept of slicing (lists) to N dimensions."
      ]
    },
    {
      "cell_type": "code",
      "execution_count": 56,
      "id": "bb930e29",
      "metadata": {
        "scrolled": true,
        "id": "bb930e29",
        "outputId": "f89071e5-917a-41eb-cd3b-a79a6513a4a9",
        "colab": {
          "base_uri": "https://localhost:8080/"
        }
      },
      "outputs": [
        {
          "output_type": "stream",
          "name": "stdout",
          "text": [
            "[[0.39791441 0.68184945 0.75163885 0.07945581]\n",
            " [0.3476284  0.96732256 0.68476133 0.02156566]\n",
            " [0.1723229  0.53759105 0.60280066 0.26664099]]\n"
          ]
        }
      ],
      "source": [
        "x = np.random.random((3, 4))\n",
        "\n",
        "# Selects all of x\n",
        "print(x[:])"
      ]
    },
    {
      "cell_type": "code",
      "execution_count": 57,
      "id": "16d0fe9a",
      "metadata": {
        "id": "16d0fe9a",
        "outputId": "5675effb-519d-43d0-f0cd-f5cce1df4cad",
        "colab": {
          "base_uri": "https://localhost:8080/"
        }
      },
      "outputs": [
        {
          "output_type": "stream",
          "name": "stdout",
          "text": [
            "[[0.39791441 0.68184945 0.75163885 0.07945581]\n",
            " [0.1723229  0.53759105 0.60280066 0.26664099]]\n",
            "---\n",
            "[0.96732256 0.68476133]\n"
          ]
        }
      ],
      "source": [
        "# Selects the 0th and 2nd rows\n",
        "print(x[np.array([0, 2]), :])\n",
        "\n",
        "print(\"---\")\n",
        "\n",
        "# Selects 1st row as 1-D vector and and 1st through 2nd elements\n",
        "print(x[1, 1:3])"
      ]
    },
    {
      "cell_type": "code",
      "execution_count": 58,
      "id": "04bf1911",
      "metadata": {
        "id": "04bf1911",
        "outputId": "3cc2331d-6bf6-42ef-c680-67586f7f51d7",
        "colab": {
          "base_uri": "https://localhost:8080/"
        }
      },
      "outputs": [
        {
          "output_type": "stream",
          "name": "stdout",
          "text": [
            "[0.68184945 0.75163885 0.96732256 0.68476133 0.53759105 0.60280066]\n"
          ]
        }
      ],
      "source": [
        "# Boolean indexing\n",
        "print(x[x > 0.5])"
      ]
    },
    {
      "cell_type": "code",
      "execution_count": 59,
      "id": "118924a3",
      "metadata": {
        "id": "118924a3",
        "outputId": "2aaaa0ba-b21f-4393-d469-b06aff5b88a9",
        "colab": {
          "base_uri": "https://localhost:8080/"
        }
      },
      "outputs": [
        {
          "output_type": "stream",
          "name": "stdout",
          "text": [
            "[[[0.39791441]\n",
            "  [0.68184945]\n",
            "  [0.75163885]\n",
            "  [0.07945581]]\n",
            "\n",
            " [[0.3476284 ]\n",
            "  [0.96732256]\n",
            "  [0.68476133]\n",
            "  [0.02156566]]\n",
            "\n",
            " [[0.1723229 ]\n",
            "  [0.53759105]\n",
            "  [0.60280066]\n",
            "  [0.26664099]]]\n"
          ]
        }
      ],
      "source": [
        "# 3-D vector of shape (3, 4, 1)\n",
        "print(x[:, :, np.newaxis])"
      ]
    },
    {
      "cell_type": "markdown",
      "id": "48e1704f",
      "metadata": {
        "id": "48e1704f"
      },
      "source": [
        "### Broadcasting"
      ]
    },
    {
      "cell_type": "markdown",
      "id": "40d35521",
      "metadata": {
        "id": "40d35521"
      },
      "source": [
        "The term broadcasting describes how NumPy treats arrays with different shapes during arithmetic operations.\n",
        "\n",
        "**General Broadcasting Rules**\n",
        "\n",
        "When operating on two arrays, NumPy compares their shapes element-wise. It starts with the trailing (i.e. rightmost) dimensions and works its way left. Two dimensions are compatible when:\n",
        "- they are equal, or\n",
        "- one of them is 1 (in which case, elements on the axis are repeated along the dimension)\n",
        "\n",
        "See more details and examples: https://numpy.org/doc/stable/user/basics.broadcasting.html\n",
        "\n",
        "**Note**: If you're getting an error, print the shapes of the matrices and investigate from there."
      ]
    },
    {
      "cell_type": "code",
      "execution_count": 60,
      "id": "e3f0c8b1",
      "metadata": {
        "id": "e3f0c8b1"
      },
      "outputs": [],
      "source": [
        "x = np.random.random((3, 4))\n",
        "\n",
        "y = np.random.random((3, 1))\n",
        "z = np.random.random((1, 4))\n",
        "\n",
        "# In this example, y and z are broadcasted to match the shape of x.\n",
        "# y is broadcasted along dim 1.\n",
        "s = x + y\n",
        "# z is broadcasted along dim 0.\n",
        "p = x * z"
      ]
    },
    {
      "cell_type": "code",
      "execution_count": 61,
      "id": "93cdfc8a",
      "metadata": {
        "id": "93cdfc8a",
        "outputId": "6fadd1d9-e8bf-4473-fccf-ff025be976dc",
        "colab": {
          "base_uri": "https://localhost:8080/"
        }
      },
      "outputs": [
        {
          "output_type": "stream",
          "name": "stdout",
          "text": [
            "(3, 4)\n",
            "\n",
            "(3, 1)\n",
            "(3, 4)\n"
          ]
        }
      ],
      "source": [
        "print(x.shape)\n",
        "print()\n",
        "print(y.shape)\n",
        "print(s.shape)"
      ]
    },
    {
      "cell_type": "code",
      "source": [
        "a = np.zeros((3, 3))\n",
        "b = np.array([[1, 2, 3]])\n",
        "print(a)\n",
        "print()\n",
        "print(a+b)"
      ],
      "metadata": {
        "id": "FICMa8RiMR08",
        "outputId": "47391ff6-ef1e-4c8f-f52d-eb6de03c8188",
        "colab": {
          "base_uri": "https://localhost:8080/"
        }
      },
      "id": "FICMa8RiMR08",
      "execution_count": 62,
      "outputs": [
        {
          "output_type": "stream",
          "name": "stdout",
          "text": [
            "[[0. 0. 0.]\n",
            " [0. 0. 0.]\n",
            " [0. 0. 0.]]\n",
            "\n",
            "[[1. 2. 3.]\n",
            " [1. 2. 3.]\n",
            " [1. 2. 3.]]\n"
          ]
        }
      ]
    },
    {
      "cell_type": "markdown",
      "id": "fec8ae1e",
      "metadata": {
        "id": "fec8ae1e"
      },
      "source": [
        "Let's look at a more complex example."
      ]
    },
    {
      "cell_type": "code",
      "execution_count": 63,
      "id": "2b1b271d",
      "metadata": {
        "id": "2b1b271d"
      },
      "outputs": [],
      "source": [
        "a = np.random.random((3, 4))\n",
        "b = np.random.random((3, 1))\n",
        "c = np.random.random((3, ))"
      ]
    },
    {
      "cell_type": "markdown",
      "id": "972fda59",
      "metadata": {
        "id": "972fda59"
      },
      "source": [
        "What is the expected broadcasting behavior for these operations? What do the following operations give us? What are the resulting shapes?"
      ]
    },
    {
      "cell_type": "code",
      "execution_count": 64,
      "id": "ab0e1d5b",
      "metadata": {
        "id": "ab0e1d5b",
        "outputId": "2c362b32-5eb4-4917-df97-5da1dff6b575",
        "colab": {
          "base_uri": "https://localhost:8080/"
        }
      },
      "outputs": [
        {
          "output_type": "stream",
          "name": "stdout",
          "text": [
            "(3, 1)\n",
            "(1, 3)\n",
            "(3, 3)\n",
            "[[0.08547071 0.05210312 0.71378817]\n",
            " [0.05210312 0.01873553 0.68042058]\n",
            " [0.71378817 0.68042058 1.34210562]]\n"
          ]
        }
      ],
      "source": [
        "result1 = b + b.T\n",
        "\n",
        "print(b.shape)\n",
        "print(b.T.shape)\n",
        "print(result1.shape)\n",
        "print(result1)"
      ]
    },
    {
      "cell_type": "markdown",
      "source": [
        "We see the following code has an error. Why we have this error?"
      ],
      "metadata": {
        "id": "I_ciHeCZ7xwB"
      },
      "id": "I_ciHeCZ7xwB"
    },
    {
      "cell_type": "code",
      "execution_count": 65,
      "id": "d7e113be",
      "metadata": {
        "scrolled": true,
        "id": "d7e113be",
        "outputId": "e9cbc301-8007-4314-ad98-30020cb1ea9b",
        "colab": {
          "base_uri": "https://localhost:8080/",
          "height": 211
        }
      },
      "outputs": [
        {
          "output_type": "error",
          "ename": "ValueError",
          "evalue": "operands could not be broadcast together with shapes (3,4) (3,) ",
          "traceback": [
            "\u001b[0;31m---------------------------------------------------------------------------\u001b[0m",
            "\u001b[0;31mValueError\u001b[0m                                Traceback (most recent call last)",
            "\u001b[0;32m/tmp/ipython-input-1987730316.py\u001b[0m in \u001b[0;36m<cell line: 0>\u001b[0;34m()\u001b[0m\n\u001b[0;32m----> 1\u001b[0;31m \u001b[0mresult2\u001b[0m \u001b[0;34m=\u001b[0m \u001b[0ma\u001b[0m \u001b[0;34m+\u001b[0m \u001b[0mc\u001b[0m\u001b[0;34m\u001b[0m\u001b[0;34m\u001b[0m\u001b[0m\n\u001b[0m\u001b[1;32m      2\u001b[0m \u001b[0;34m\u001b[0m\u001b[0m\n\u001b[1;32m      3\u001b[0m \u001b[0mprint\u001b[0m\u001b[0;34m(\u001b[0m\u001b[0ma\u001b[0m\u001b[0;34m.\u001b[0m\u001b[0mshape\u001b[0m\u001b[0;34m)\u001b[0m\u001b[0;34m\u001b[0m\u001b[0;34m\u001b[0m\u001b[0m\n\u001b[1;32m      4\u001b[0m \u001b[0mprint\u001b[0m\u001b[0;34m(\u001b[0m\u001b[0mc\u001b[0m\u001b[0;34m.\u001b[0m\u001b[0mshape\u001b[0m\u001b[0;34m)\u001b[0m\u001b[0;34m\u001b[0m\u001b[0;34m\u001b[0m\u001b[0m\n\u001b[1;32m      5\u001b[0m \u001b[0mprint\u001b[0m\u001b[0;34m(\u001b[0m\u001b[0mresult2\u001b[0m\u001b[0;34m.\u001b[0m\u001b[0mshape\u001b[0m\u001b[0;34m)\u001b[0m\u001b[0;34m\u001b[0m\u001b[0;34m\u001b[0m\u001b[0m\n",
            "\u001b[0;31mValueError\u001b[0m: operands could not be broadcast together with shapes (3,4) (3,) "
          ]
        }
      ],
      "source": [
        "result2 = a + c\n",
        "\n",
        "print(a.shape)\n",
        "print(c.shape)\n",
        "print(result2.shape)\n",
        "print(result2)"
      ]
    },
    {
      "cell_type": "code",
      "execution_count": 66,
      "id": "e91c0c70",
      "metadata": {
        "id": "e91c0c70",
        "outputId": "90d0393b-b698-4385-addd-1283a041b41a",
        "colab": {
          "base_uri": "https://localhost:8080/"
        }
      },
      "outputs": [
        {
          "output_type": "stream",
          "name": "stdout",
          "text": [
            "(3, 1)\n",
            "(3,)\n",
            "(3, 3)\n",
            "[[0.54405821 0.88200559 0.46560522]\n",
            " [0.51069062 0.848638   0.43223763]\n",
            " [1.17237567 1.51032304 1.09392267]]\n"
          ]
        }
      ],
      "source": [
        "result3 = b + c\n",
        "\n",
        "print(b.shape)\n",
        "print(c.shape)\n",
        "print(result3.shape)\n",
        "print(result3)"
      ]
    },
    {
      "cell_type": "code",
      "source": [
        "print(b)\n",
        "print(c)\n",
        "print(result3)"
      ],
      "metadata": {
        "id": "L6HlZYlNayZn",
        "outputId": "ccc4c851-2b9a-47f0-aff3-f0073dcb57de",
        "colab": {
          "base_uri": "https://localhost:8080/"
        }
      },
      "id": "L6HlZYlNayZn",
      "execution_count": 67,
      "outputs": [
        {
          "output_type": "stream",
          "name": "stdout",
          "text": [
            "[[0.04273536]\n",
            " [0.00936777]\n",
            " [0.67105281]]\n",
            "[0.50132286 0.83927023 0.42286986]\n",
            "[[0.54405821 0.88200559 0.46560522]\n",
            " [0.51069062 0.848638   0.43223763]\n",
            " [1.17237567 1.51032304 1.09392267]]\n"
          ]
        }
      ]
    },
    {
      "cell_type": "markdown",
      "id": "0a845479",
      "metadata": {
        "id": "0a845479"
      },
      "source": [
        "### Efficient NumPy Code"
      ]
    },
    {
      "cell_type": "markdown",
      "id": "55c8d74f",
      "metadata": {
        "id": "55c8d74f"
      },
      "source": [
        "When working with numpy arrays, avoid explicit for-loops over indices/axes at all costs. For-loops will dramatically slow down your code (~10-100x)."
      ]
    },
    {
      "cell_type": "markdown",
      "id": "e1285d83",
      "metadata": {
        "id": "e1285d83"
      },
      "source": [
        "We can time code using the %%timeit magic. Let's compare using explicit for-loop vs. using numpy operations."
      ]
    },
    {
      "cell_type": "code",
      "execution_count": 68,
      "id": "ba02c912",
      "metadata": {
        "id": "ba02c912",
        "outputId": "5e8fc8b1-32db-4cec-9b39-d26ffc3e7ceb",
        "colab": {
          "base_uri": "https://localhost:8080/"
        }
      },
      "outputs": [
        {
          "output_type": "stream",
          "name": "stdout",
          "text": [
            "346 ms ± 8.81 ms per loop (mean ± std. dev. of 7 runs, 1 loop each)\n"
          ]
        }
      ],
      "source": [
        "%%timeit\n",
        "x = np.random.rand(1000, 1000)\n",
        "for i in range(100, 1000):\n",
        "    for j in range(x.shape[1]):\n",
        "        x[i, j] += 5"
      ]
    },
    {
      "cell_type": "code",
      "execution_count": 69,
      "id": "3c96fc83",
      "metadata": {
        "id": "3c96fc83",
        "outputId": "843cb61c-06d6-4fab-d9fe-5693290621b2",
        "colab": {
          "base_uri": "https://localhost:8080/"
        }
      },
      "outputs": [
        {
          "output_type": "stream",
          "name": "stdout",
          "text": [
            "12.9 ms ± 2.09 ms per loop (mean ± std. dev. of 7 runs, 100 loops each)\n"
          ]
        }
      ],
      "source": [
        "%%timeit\n",
        "x = np.random.rand(1000, 1000)\n",
        "x[np.arange(100,1000), :] += 5"
      ]
    },
    {
      "cell_type": "markdown",
      "source": [
        "### List comprehensions"
      ],
      "metadata": {
        "id": "YCloX0G5qpsT"
      },
      "id": "YCloX0G5qpsT"
    },
    {
      "cell_type": "markdown",
      "source": [
        "When programming, frequently we want to transform one type of data into another. As a simple example, consider the following code that computes square numbers:"
      ],
      "metadata": {
        "id": "lo0WcNnNqw2j"
      },
      "id": "lo0WcNnNqw2j"
    },
    {
      "cell_type": "code",
      "execution_count": 70,
      "id": "72b832dd",
      "metadata": {
        "id": "72b832dd",
        "outputId": "0ee86848-dc57-4154-e4ef-496f0a3c624a",
        "colab": {
          "base_uri": "https://localhost:8080/"
        }
      },
      "outputs": [
        {
          "output_type": "stream",
          "name": "stdout",
          "text": [
            "[0, 1, 4, 9, 16]\n"
          ]
        }
      ],
      "source": [
        "nums = [0, 1, 2, 3, 4]\n",
        "squares = []\n",
        "for x in nums:\n",
        "    squares.append(x ** 2)\n",
        "print(squares)"
      ]
    },
    {
      "cell_type": "markdown",
      "source": [
        "You can make this code simpler using a list comprehension:"
      ],
      "metadata": {
        "id": "Fn5lDju4q23h"
      },
      "id": "Fn5lDju4q23h"
    },
    {
      "cell_type": "code",
      "source": [
        "nums = [0, 1, 2, 3, 4]\n",
        "squares = [x ** 2 for x in nums]\n",
        "print(squares)"
      ],
      "metadata": {
        "id": "Gj1hmUVUq00_",
        "outputId": "a2ecfa90-aba8-4409-834c-c45f286dd95a",
        "colab": {
          "base_uri": "https://localhost:8080/"
        }
      },
      "id": "Gj1hmUVUq00_",
      "execution_count": 71,
      "outputs": [
        {
          "output_type": "stream",
          "name": "stdout",
          "text": [
            "[0, 1, 4, 9, 16]\n"
          ]
        }
      ]
    },
    {
      "cell_type": "markdown",
      "source": [
        "List comprehensions can also contain conditions:"
      ],
      "metadata": {
        "id": "xc9he2gXq7NT"
      },
      "id": "xc9he2gXq7NT"
    },
    {
      "cell_type": "code",
      "source": [
        "nums = [0, 1, 2, 3, 4]\n",
        "even_squares = [x ** 2 for x in nums if x % 2 == 0]\n",
        "print(even_squares)"
      ],
      "metadata": {
        "id": "eRiwNliZq5te",
        "outputId": "5b1f664e-e9ea-4f55-abd2-852b8578d568",
        "colab": {
          "base_uri": "https://localhost:8080/"
        }
      },
      "id": "eRiwNliZq5te",
      "execution_count": 72,
      "outputs": [
        {
          "output_type": "stream",
          "name": "stdout",
          "text": [
            "[0, 4, 16]\n"
          ]
        }
      ]
    },
    {
      "cell_type": "markdown",
      "source": [
        "Dictionary comprehensions: These are similar to list comprehensions, but allow you to easily construct dictionaries. For example:"
      ],
      "metadata": {
        "id": "ahjh5dDbrw4m"
      },
      "id": "ahjh5dDbrw4m"
    },
    {
      "cell_type": "code",
      "source": [
        "nums = [0, 1, 2, 3, 4]\n",
        "even_num_to_square = {x: x ** 2 for x in nums if x % 2 == 0}\n",
        "print(even_num_to_square)"
      ],
      "metadata": {
        "id": "HWSmGtEnrzHA",
        "outputId": "1807fd24-f06f-4655-b858-5c19af6b4ab3",
        "colab": {
          "base_uri": "https://localhost:8080/"
        }
      },
      "id": "HWSmGtEnrzHA",
      "execution_count": 73,
      "outputs": [
        {
          "output_type": "stream",
          "name": "stdout",
          "text": [
            "{0: 0, 2: 4, 4: 16}\n"
          ]
        }
      ]
    }
  ],
  "metadata": {
    "kernelspec": {
      "display_name": "Python 3 (ipykernel)",
      "language": "python",
      "name": "python3"
    },
    "language_info": {
      "codemirror_mode": {
        "name": "ipython",
        "version": 3
      },
      "file_extension": ".py",
      "mimetype": "text/x-python",
      "name": "python",
      "nbconvert_exporter": "python",
      "pygments_lexer": "ipython3",
      "version": "3.9.7"
    },
    "colab": {
      "provenance": []
    }
  },
  "nbformat": 4,
  "nbformat_minor": 5
}