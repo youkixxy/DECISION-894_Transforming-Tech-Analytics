{
  "cells": [
    {
      "cell_type": "markdown",
      "metadata": {
        "id": "70pYkR9LiOV0"
      },
      "source": [
        "## Quick Tutorial on Markdown\n",
        "\n",
        "In this course, we will extensively use Colab.\n",
        "\n",
        "Colab has two types of cells: text and code. In your assignments and projects, you may use the code cells for writing codes and text cells to answer questions or explain your codes. Text cells are formatted using a simple markup language called **Markdown**.\n",
        "\n",
        "This practice module provides reference for commonly used Markdown functions as below. To see the Markdown source, double-click a text cell, showing both the Markdown source and the rendered version. Above the Markdown source there is a toolbar to assist editing."
      ]
    },
    {
      "cell_type": "markdown",
      "metadata": {
        "id": "pBL-ou5HizQN"
      },
      "source": [
        "---\n",
        "**Formatting**\n",
        "\n",
        "Markdown source | Preview\n",
        "--- | ---\n",
        "`**bold text**` | **bold text**\n",
        "`*italicized text*` or `_italicized text_` | *italicized text*\n",
        "`` `Monospace` `` | `Monospace`\n",
        "`~~strikethrough~~` | ~~strikethrough~~\n",
        "`[A link](https://www.fuqua.duke.edu/)` | [A link](https://www.fuqua.duke.edu/)\n",
        "`![An image](https://duke.edu/assets/img/dukelogo_gray.svg)` | ![An image](https://duke.edu/assets/img/dukelogo_gray.svg)"
      ]
    },
    {
      "cell_type": "markdown",
      "metadata": {
        "id": "45REJxtsiS9h"
      },
      "source": [
        "---\n",
        "**Headings**\n",
        "\n",
        "```markdown\n",
        "# Section 1\n",
        "## Sub-section under Section 1\n",
        "### Sub-section under the sub-section under Section 1\n",
        "```\n",
        "\n",
        "# Section 1\n",
        "## Sub-section under Section 1\n",
        "### Sub-section under the sub-section under Section 1\n"
      ]
    },
    {
      "cell_type": "markdown",
      "metadata": {
        "id": "YDPeMf2giddO"
      },
      "source": [
        "---\n",
        "**Indentation**\n",
        "```markdown\n",
        ">One level of indentation\n",
        "```\n",
        "\n",
        ">One level of indentation\n",
        "\n",
        "\n",
        "```markdown\n",
        ">>Two levels of indentation\n",
        "```\n",
        "\n",
        ">>Two levels of indentation"
      ]
    },
    {
      "cell_type": "markdown",
      "metadata": {
        "id": "9KzGuMf7iolX"
      },
      "source": [
        "---\n",
        "**Code blocks**\n",
        "\n",
        "````\n",
        "```python\n",
        "print(\"a\")\n",
        "```\n",
        "````\n",
        "\n",
        "```python\n",
        "print(\"a\")\n",
        "```"
      ]
    },
    {
      "cell_type": "markdown",
      "metadata": {
        "id": "MRCo32dQiwVE"
      },
      "source": [
        "---\n",
        "**Ordered lists**\n",
        "```markdown\n",
        "1. One\n",
        "1. Two\n",
        "1. Three\n",
        "```\n",
        "1. One\n",
        "1. Two\n",
        "1. Three"
      ]
    },
    {
      "cell_type": "markdown",
      "metadata": {
        "id": "LO1OnaOSjKmZ"
      },
      "source": [
        "---\n",
        "**Unordered lists**\n",
        "```markdown\n",
        "* One\n",
        "* Two\n",
        "* Three\n",
        "```\n",
        "* One\n",
        "* Two\n",
        "* Three"
      ]
    },
    {
      "cell_type": "markdown",
      "metadata": {
        "id": "Lhfnlq1Surtk"
      },
      "source": [
        "---\n",
        "**Tables**\n",
        "```markdown\n",
        "First column name  | Second column name\n",
        "-------------------|------------------\n",
        "Row 1, Col 1       | Row 1, Col 2\n",
        "Row 2, Col 1       | Row 2, Col 2\n",
        "\n",
        "```\n",
        "\n",
        "First column name  | Second column name\n",
        "-------------------|------------------\n",
        "Row 1, Col 1       | Row 1, Col 2\n",
        "Row 2, Col 1       | Row 2, Col 2\n",
        "\n",
        "\n"
      ]
    },
    {
      "cell_type": "markdown",
      "metadata": {
        "id": "dvm3ma6ljlkO"
      },
      "source": [
        "---\n",
        "**Horizontal rule**:\n",
        "```markdown\n",
        "---\n",
        "```\n",
        "\n",
        "---"
      ]
    },
    {
      "cell_type": "markdown",
      "metadata": {
        "id": "w86a4I4fmkvD"
      },
      "source": [
        "## Differences between Colab Markdown and other Markdown dialects\n",
        "\n",
        "Colab uses [marked.js](https://github.com/chjj/marked) and so is similar but not quite identical to the Markdown used by Jupyter and Github.\n",
        "\n",
        "Colab supports (MathJax) $\\LaTeX$ equations like Jupyter, but does not allow HTML tags in the Markdown. Colab does not support some GitHub additions like emojis and to-do checkboxes.\n",
        "\n",
        "If HTML must be included in a Colab notebook, see the [%%html magic](/notebooks/basic_features_overview.ipynb#scrollTo=qM4myQGfQboQ)."
      ]
    },
    {
      "cell_type": "markdown",
      "metadata": {
        "id": "uSx6SUb1Komv"
      },
      "source": [
        "## Useful references"
      ]
    },
    {
      "cell_type": "markdown",
      "metadata": {
        "id": "5Y3CStVkLxqt"
      },
      "source": [
        "* [Getting Started with Markdown](https://www.markdownguide.org/getting-started/)\n",
        "* [Markdown Cheat Sheet](https://www.markdownguide.org/cheat-sheet/)\n",
        "* [LaTex Mathematics for Equations](https://en.wikibooks.org/wiki/LaTeX/Mathematics)"
      ]
    },
    {
      "cell_type": "code",
      "source": [],
      "metadata": {
        "id": "gB4oTRPD48Tp"
      },
      "execution_count": null,
      "outputs": []
    }
  ],
  "metadata": {
    "colab": {
      "provenance": []
    },
    "kernelspec": {
      "display_name": "Python 3",
      "name": "python3"
    }
  },
  "nbformat": 4,
  "nbformat_minor": 0
}