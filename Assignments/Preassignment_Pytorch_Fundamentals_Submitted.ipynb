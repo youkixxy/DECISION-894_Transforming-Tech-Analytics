{
  "nbformat": 4,
  "nbformat_minor": 0,
  "metadata": {
    "colab": {
      "provenance": []
    },
    "kernelspec": {
      "name": "python3",
      "display_name": "Python 3"
    },
    "language_info": {
      "name": "python"
    }
  },
  "cells": [
    {
      "cell_type": "markdown",
      "source": [
        "## Pre-Assignment"
      ],
      "metadata": {
        "id": "tSn2ODHnbhv5"
      }
    },
    {
      "cell_type": "markdown",
      "source": [
        "**1. Documentation reading - A big part of deep learning (and learning to code in general) is getting familiar with the documentation of a certain framework you're using. We'll be using the PyTorch documentation a lot throughout the rest of this course. So I'd recommend spending 10-minutes reading the following (it's okay if you don't get some things for now, the focus is not yet full understanding, it's awareness). See the documentation on [`torch.Tensor`](https://pytorch.org/docs/stable/tensors.html#torch-tensor).**"
      ],
      "metadata": {
        "id": "K4UnpWfI0io7"
      }
    },
    {
      "cell_type": "markdown",
      "source": [
        "I reviewed the `torch.Tensor` documentation."
      ],
      "metadata": {
        "id": "KhX5yb4zyAnR"
      }
    },
    {
      "cell_type": "markdown",
      "source": [
        "**2. Create a random tensor with shape `(7, 7)`.**"
      ],
      "metadata": {
        "id": "5EvxtTAz0l-t"
      }
    },
    {
      "cell_type": "code",
      "source": [
        "import torch"
      ],
      "metadata": {
        "id": "1z2EKPuxmKCf"
      },
      "execution_count": 28,
      "outputs": []
    },
    {
      "cell_type": "code",
      "source": [
        "random_tensor_1=torch.rand(7,7)\n",
        "random_tensor_1"
      ],
      "metadata": {
        "colab": {
          "base_uri": "https://localhost:8080/"
        },
        "id": "TaPJHVorxSEf",
        "outputId": "e46a91b2-be0e-4349-a266-8572581b1693"
      },
      "execution_count": 29,
      "outputs": [
        {
          "output_type": "execute_result",
          "data": {
            "text/plain": [
              "tensor([[0.2685, 0.7970, 0.2670, 0.5233, 0.0389, 0.1146, 0.5563],\n",
              "        [0.7264, 0.3471, 0.8083, 0.0683, 0.1322, 0.1599, 0.4492],\n",
              "        [0.3483, 0.8405, 0.2395, 0.9431, 0.0910, 0.3146, 0.2048],\n",
              "        [0.7750, 0.5175, 0.5690, 0.9269, 0.8084, 0.9405, 0.3079],\n",
              "        [0.2288, 0.7924, 0.3338, 0.5012, 0.6888, 0.6682, 0.1368],\n",
              "        [0.3598, 0.8933, 0.3685, 0.8899, 0.3061, 0.7736, 0.3808],\n",
              "        [0.3363, 0.2611, 0.6155, 0.7038, 0.8805, 0.2959, 0.3854]])"
            ]
          },
          "metadata": {},
          "execution_count": 29
        }
      ]
    },
    {
      "cell_type": "markdown",
      "source": [
        "I created random tensor with shape (7, 7)."
      ],
      "metadata": {
        "id": "DoBAkxwr4Qzu"
      }
    },
    {
      "cell_type": "markdown",
      "source": [
        "**3. Perform a matrix multiplication on the tensor from 2 with another random tensor with shape `(1, 7)` (hint: you may have to transpose the second tensor).**"
      ],
      "metadata": {
        "id": "bFjolNYN0sDF"
      }
    },
    {
      "cell_type": "code",
      "source": [
        "random_tensor_2=torch.rand(1,7)\n",
        "random_tensor_2"
      ],
      "metadata": {
        "colab": {
          "base_uri": "https://localhost:8080/"
        },
        "id": "vJ16gJqAy_-r",
        "outputId": "1a0fe355-b7b1-4627-c589-095ff59e36fe"
      },
      "execution_count": 30,
      "outputs": [
        {
          "output_type": "execute_result",
          "data": {
            "text/plain": [
              "tensor([[0.6922, 0.8189, 0.7983, 0.5487, 0.2411, 0.3273, 0.1010]])"
            ]
          },
          "metadata": {},
          "execution_count": 30
        }
      ]
    },
    {
      "cell_type": "markdown",
      "source": [
        "I created random tensor with shape (1, 7)."
      ],
      "metadata": {
        "id": "SH_NQzK34Y8y"
      }
    },
    {
      "cell_type": "code",
      "source": [
        "result=torch.mm(random_tensor_1,random_tensor_2.T)\n",
        "result"
      ],
      "metadata": {
        "colab": {
          "base_uri": "https://localhost:8080/"
        },
        "id": "YDuA_OCUzLbY",
        "outputId": "6684483b-d4bf-40cf-cba2-61fabd183e82"
      },
      "execution_count": 31,
      "outputs": [
        {
          "output_type": "execute_result",
          "data": {
            "text/plain": [
              "tensor([[1.4419],\n",
              "        [1.5994],\n",
              "        [1.7837],\n",
              "        [2.4569],\n",
              "        [1.7473],\n",
              "        [2.1285],\n",
              "        [1.6723]])"
            ]
          },
          "metadata": {},
          "execution_count": 31
        }
      ]
    },
    {
      "cell_type": "markdown",
      "source": [
        "I transposed the 2nd tensor to (7,1) and performed multiplication."
      ],
      "metadata": {
        "id": "muSFyPUd4bc6"
      }
    },
    {
      "cell_type": "markdown",
      "source": [
        "**4. Make a tensor vector `a` of all ones with length `5` and then change this torch tensor to a numpy array `b` and print out `b`. Modify the third entry of `a` to `0` and print out `b`. Modify the fourth entry of `b` to `5` and print out `a`. What do you observe in terms of values of `a` and `b`?**"
      ],
      "metadata": {
        "id": "SXUd1BJL0vv3"
      }
    },
    {
      "cell_type": "code",
      "source": [
        "import numpy as np"
      ],
      "metadata": {
        "id": "gap3qkaY2UeH"
      },
      "execution_count": 32,
      "outputs": []
    },
    {
      "cell_type": "code",
      "source": [
        "a = torch.ones(5)\n",
        "a"
      ],
      "metadata": {
        "colab": {
          "base_uri": "https://localhost:8080/"
        },
        "id": "OYMu8ZRw1CB7",
        "outputId": "25ce433f-356a-4363-adf3-bf1e778ff775"
      },
      "execution_count": 33,
      "outputs": [
        {
          "output_type": "execute_result",
          "data": {
            "text/plain": [
              "tensor([1., 1., 1., 1., 1.])"
            ]
          },
          "metadata": {},
          "execution_count": 33
        }
      ]
    },
    {
      "cell_type": "code",
      "source": [
        "b = a.numpy()\n",
        "b"
      ],
      "metadata": {
        "colab": {
          "base_uri": "https://localhost:8080/"
        },
        "id": "vdzNc9OU1Ldf",
        "outputId": "d8e64bd1-6b42-4197-e175-98d08ae07aa0"
      },
      "execution_count": 34,
      "outputs": [
        {
          "output_type": "execute_result",
          "data": {
            "text/plain": [
              "array([1., 1., 1., 1., 1.], dtype=float32)"
            ]
          },
          "metadata": {},
          "execution_count": 34
        }
      ]
    },
    {
      "cell_type": "code",
      "source": [
        "a[2] = 0\n",
        "b"
      ],
      "metadata": {
        "colab": {
          "base_uri": "https://localhost:8080/"
        },
        "id": "oaV5T71k1aOK",
        "outputId": "01dde860-769a-4b87-870b-3fb4ff7e9ae5"
      },
      "execution_count": 35,
      "outputs": [
        {
          "output_type": "execute_result",
          "data": {
            "text/plain": [
              "array([1., 1., 0., 1., 1.], dtype=float32)"
            ]
          },
          "metadata": {},
          "execution_count": 35
        }
      ]
    },
    {
      "cell_type": "code",
      "source": [
        "b[3] = 5\n",
        "a"
      ],
      "metadata": {
        "colab": {
          "base_uri": "https://localhost:8080/"
        },
        "id": "eVNk5ec11gMR",
        "outputId": "253cced9-906f-4c3b-cec5-e6ae6582df0c"
      },
      "execution_count": 36,
      "outputs": [
        {
          "output_type": "execute_result",
          "data": {
            "text/plain": [
              "tensor([1., 1., 0., 5., 1.])"
            ]
          },
          "metadata": {},
          "execution_count": 36
        }
      ]
    },
    {
      "cell_type": "markdown",
      "source": [
        "I followed the instruction and observe `a` and `b` are changed simultaneously, because they share a same memory."
      ],
      "metadata": {
        "id": "tblpfW171rxM"
      }
    }
  ]
}